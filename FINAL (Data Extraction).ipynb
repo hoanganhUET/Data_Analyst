{
 "cells": [
  {
   "cell_type": "code",
   "execution_count": 1,
   "id": "f3954594-4140-4110-a2cf-f792b7f6c11a",
   "metadata": {},
   "outputs": [],
   "source": [
    "#Get some library for this\n",
    "from github import Github\n",
    "import datetime\n",
    "import csv"
   ]
  },
  {
   "cell_type": "code",
   "execution_count": 2,
   "id": "09d45a6b-d1e2-4233-b495-d0a5ff61cbcb",
   "metadata": {},
   "outputs": [
    {
     "name": "stdout",
     "output_type": "stream",
     "text": [
      "Commit details saved to the CSV file.\n"
     ]
    }
   ],
   "source": [
    "'''Data Extraction '''\n",
    "\n",
    "# Initialize the Github instance\n",
    "g = Github(\"your_token_here\")\n",
    "\n",
    "# Get the repository object\n",
    "repo = g.get_repo(\"tensorflow/tensorflow\")\n",
    "\n",
    "# Date range\n",
    "since_date = datetime.datetime(2024, 6, 15)\n",
    "until_date = datetime.datetime(2024, 6, 16)\n",
    "\n",
    "# Fetch commits within the date range\n",
    "commits = repo.get_commits(since=since_date, until=until_date)\n",
    "\n",
    "# File path for CSV\n",
    "csv_file = 'tensor_flow_commits.csv'\n",
    "\n",
    "# Write-mode\n",
    "with open(csv_file, mode='w', newline='', encoding='utf-8-sig') as file:\n",
    "    writer = csv.writer(file)\n",
    "    # Header row\n",
    "    writer.writerow(['Commit Message', 'Name', 'Email', 'Updated at', 'Files Changed', 'Contributor', 'All Checks Passed'])\n",
    "\n",
    "    # Iterate over commits\n",
    "    for commit in commits:\n",
    "        commit_message = commit.commit.message\n",
    "        name = commit.commit.author.name if commit.commit.author else 'N/A'\n",
    "        email = commit.commit.author.email if commit.commit.author else 'N/A'\n",
    "        commit_date = commit.commit.author.date.strftime(\"%Y-%m-%d %H:%M:%S\") if commit.commit.author.date else 'N/A'\n",
    "\n",
    "        files_changed = commit.files\n",
    "        changed_files = ', '.join(file.filename for file in files_changed) if files_changed else 'N/A'\n",
    "\n",
    "        # Contributor information\n",
    "        contributor = commit.author.login if commit.author else 'N/A'\n",
    "\n",
    "        # Check status\n",
    "        check_runs = commit.get_check_runs()\n",
    "        all_checks_passed = all(check_run.conclusion == 'success' for check_run in check_runs)\n",
    "\n",
    "        # Write the row data to the CSV file\n",
    "        writer.writerow([commit_message, name, email, commit_date, changed_files, contributor, all_checks_passed])\n",
    "\n",
    "print(\"Commit details saved to the CSV file.\")\n"
   ]
  }
 ],
 "metadata": {
  "kernelspec": {
   "display_name": "Python 3 (ipykernel)",
   "language": "python",
   "name": "python3"
  },
  "language_info": {
   "codemirror_mode": {
    "name": "ipython",
    "version": 3
   },
   "file_extension": ".py",
   "mimetype": "text/x-python",
   "name": "python",
   "nbconvert_exporter": "python",
   "pygments_lexer": "ipython3",
   "version": "3.10.13"
  }
 },
 "nbformat": 4,
 "nbformat_minor": 5
}
